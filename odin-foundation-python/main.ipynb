{
  "nbformat": 4,
  "nbformat_minor": 0,
  "metadata": {
    "colab": {
      "provenance": []
    },
    "kernelspec": {
      "name": "python3",
      "display_name": "Python 3"
    },
    "language_info": {
      "name": "python"
    }
  },
  "cells": [
    {
      "cell_type": "markdown",
      "source": [
        "Q1: You are working in a bank, and you have been given two lists of the employees who worked in 2021.\n",
        "Employees’ names in list 1 are Ramesh, Suresh, Mahesh, Ali, Jacob, and Saritha.\n",
        "List 2 contains the names of Ali, Mukesh, Mahesh, Jacob, Sai, and Sarita.\n",
        "Please write a program that helps to identify people who are common in both lists. Please do not use any in-built function."
      ],
      "metadata": {
        "id": "zv3iCSdioQyY"
      }
    },
    {
      "cell_type": "code",
      "execution_count": null,
      "metadata": {
        "colab": {
          "base_uri": "https://localhost:8080/"
        },
        "id": "ndE-mG32L6eK",
        "outputId": "72038578-ebe2-4831-c080-f9a076db667c"
      },
      "outputs": [
        {
          "output_type": "stream",
          "name": "stdout",
          "text": [
            "['Mahesh', 'Ali', 'Jacob']\n"
          ]
        }
      ],
      "source": [
        "\n",
        "list1 = ['Ramesh', 'Suresh', 'Mahesh', 'Ali', 'Jacob','Saritha']\n",
        "list2 = ['Ali', 'Mukesh', 'Mahesh', 'Jacob', 'Sai','Sarita']\n",
        "list3 = []\n",
        "for i in list1:\n",
        "  for j in list2:\n",
        "    if i == j:\n",
        "      list3.append(i)\n",
        "print(list3)"
      ]
    },
    {
      "cell_type": "markdown",
      "source": [
        "Q2: While entering data, someone entered a few names as a common string “Ramesh Suresh Mohit”.\n",
        "Please write a program which separates all the names and converts them into a list.\n",
        "Once converted into a list, please write a program that adds their age.\n"
      ],
      "metadata": {
        "id": "SYzNI28Jog3L"
      }
    },
    {
      "cell_type": "code",
      "source": [
        "\n",
        "string =\"Ramesh Suresh Mohit\"\n",
        "names = string.split()\n",
        "print(names)\n",
        "\n",
        "ages = [25,22,26]\n",
        "result = zip(names,ages)\n",
        "\n",
        "for name,age in result:\n",
        "  print(f'{name} : {age}')\n"
      ],
      "metadata": {
        "colab": {
          "base_uri": "https://localhost:8080/"
        },
        "id": "3xkVlAPvODsh",
        "outputId": "4acf79ce-3fd9-403c-9d6d-d88abb7be28d"
      },
      "execution_count": null,
      "outputs": [
        {
          "output_type": "stream",
          "name": "stdout",
          "text": [
            "['Ramesh', 'Suresh', 'Mohit']\n",
            "Ramesh : 25\n",
            "Suresh : 22\n",
            "Mohit : 26\n"
          ]
        }
      ]
    },
    {
      "cell_type": "markdown",
      "source": [
        "Q3: You are working in a medical store. A patient came to your medical store and asked to buy 2 strips of paracetamol,\n",
        "3 strips of azithromycin, and 5 strips of Vitamin C. One strip of paracetamol costs Rs 35, one strip of azithromycin costs Rs 49,\n",
        "and one strip of vitamin c costs Rs. 33. Patient gave you Rs 2000. Please tell us what is the total cost of each medicine,\n",
        "the total cost of all medicine, and how much money you refunded to the patient.\n"
      ],
      "metadata": {
        "id": "38d5NHO8onlJ"
      }
    },
    {
      "cell_type": "code",
      "source": [
        "\n",
        "num_of_paracetamol = 2\n",
        "num_of_azithromycin = 3\n",
        "num_of_vit_c = 5\n",
        "\n",
        "price_paracetamol = 35\n",
        "price_azithromycin = 49\n",
        "price_vit_c = 33\n",
        "\n",
        "total_cost_paracetamol  = num_of_paracetamol * price_paracetamol\n",
        "total_cost_azithromycin = num_of_azithromycin * price_azithromycin\n",
        "total_cost_vit_c = num_of_vit_c * price_vit_c\n",
        "\n",
        "total_cost_all_medicines = total_cost_paracetamol + total_cost_azithromycin + total_cost_vit_c\n",
        "\n",
        "given_money = 2000\n",
        "\n",
        "refunded_money = given_money - total_cost_all_medicines\n",
        "\n",
        "print(f'Total cost of paracetamol: {total_cost_paracetamol}')\n",
        "print(f'Total cost of azithromycin : {total_cost_azithromycin}')\n",
        "print(f'Total cost of Vitamin C : {total_cost_vit_c}')\n",
        "print(f'Total cost of all medicines : {total_cost_all_medicines } ')\n",
        "print(f'Refunded money : {refunded_money}')\n",
        "\n"
      ],
      "metadata": {
        "colab": {
          "base_uri": "https://localhost:8080/"
        },
        "id": "tWsHUkOKUG45",
        "outputId": "53400bb3-9bca-4be7-a954-167a029b4421"
      },
      "execution_count": null,
      "outputs": [
        {
          "output_type": "stream",
          "name": "stdout",
          "text": [
            "Total cost of paracetamol: 70\n",
            "Total cost of azithromycin : 147\n",
            "Total cost of Vitamin C : 165\n",
            "Total cost of all medicines : 382 \n",
            "Refunded money : 1618\n"
          ]
        }
      ]
    },
    {
      "cell_type": "markdown",
      "source": [
        "Q4: Accept a sentence as input and find the number of vowels in it. Assume that the sentence has no punctuation marks.\n",
        "For example, I am learning python contains 6 vowels. This function should be applicable for all other different sentences."
      ],
      "metadata": {
        "id": "BR-hNmLKov4a"
      }
    },
    {
      "cell_type": "code",
      "source": [
        "\n",
        "sentence = input()\n",
        "sentence = sentence.lower()\n",
        "\n",
        "vowels = 'a','e','i','o','u'\n",
        "\n",
        "vowel_count = 0\n",
        "for word in sentence:\n",
        "  for char in word:\n",
        "    if char in vowels:\n",
        "      vowel_count += 1\n",
        "print(f'Vowel count : {vowel_count}')\n",
        "\n",
        "\n"
      ],
      "metadata": {
        "colab": {
          "base_uri": "https://localhost:8080/"
        },
        "id": "RgPwcVByYGs-",
        "outputId": "55215af0-6bd3-4747-f3c1-36f7d1ce6887"
      },
      "execution_count": null,
      "outputs": [
        {
          "output_type": "stream",
          "name": "stdout",
          "text": [
            "I am Priya\n",
            "Vowel count : 4\n"
          ]
        }
      ]
    },
    {
      "cell_type": "markdown",
      "source": [
        "Q5: You have been appointed by the election commission to create a website. Your first task is to work on a program\n",
        "which tells candidates if they are eligible for voting or not. If they are eligible, your output should be ‘Congrats! You are eligible’;\n",
        " otherwise, it should tell that you have to return after X number of years. The eligibility criteria for voting is 18 years.\n",
        "For example, If someone is 18 or above, your output should be ‘Congrats! You are eligible’.\n",
        "If someone’s age is 15 years, it should print output as ‘return after 3 years’.\n"
      ],
      "metadata": {
        "id": "p0A-Q3FIo0tx"
      }
    },
    {
      "cell_type": "code",
      "source": [
        "\n",
        "eligible_age = 18\n",
        "age = int(input())\n",
        "\n",
        "if age >= 18:\n",
        "  print(f'Congrats! You are eligible')\n",
        "else:\n",
        "  print(f'return after {eligible_age - age} years')"
      ],
      "metadata": {
        "colab": {
          "base_uri": "https://localhost:8080/"
        },
        "id": "8bOYVrr7ZUXS",
        "outputId": "47429eac-bb2d-4815-dbb0-ea99bd1882d4"
      },
      "execution_count": null,
      "outputs": [
        {
          "output_type": "stream",
          "name": "stdout",
          "text": [
            "14\n",
            "return after 4 years\n"
          ]
        }
      ]
    },
    {
      "cell_type": "markdown",
      "source": [
        "Q6: Given a list of integers, find the cumulative sum of the elements of the list and store them in another list.\n",
        "Output:[1, 3, 6, 10, 15]\n"
      ],
      "metadata": {
        "id": "1LlJuAYXo6g4"
      }
    },
    {
      "cell_type": "code",
      "source": [
        "\n",
        "A = [1, 2, 3, 4, 5]\n",
        "current_sum = 0\n",
        "cumulative_list = []\n",
        "\n",
        "for i in A:\n",
        "  current_sum += i\n",
        "  cumulative_list.append(current_sum)\n",
        "print(cumulative_list)\n",
        "\n",
        "\n",
        "\n"
      ],
      "metadata": {
        "colab": {
          "base_uri": "https://localhost:8080/"
        },
        "id": "QApnRydtalIA",
        "outputId": "30786587-e078-4fab-aa80-8a22a4c68d6b"
      },
      "execution_count": null,
      "outputs": [
        {
          "output_type": "stream",
          "name": "stdout",
          "text": [
            "[1, 3, 6, 10, 15]\n"
          ]
        }
      ]
    },
    {
      "cell_type": "markdown",
      "source": [
        "Q7 : WAP to encode a message entered by user as per below conditions:\n",
        "for every word in the sentence,\n",
        "1. If the word starts with a vowel, encode it as the first and last letter of the word.\n",
        "2. If the word starts with a consonant, remove all vowels from it.\n",
        "Ensure the case insensitive comparisons/checks are performed.\n",
        "Please enter your text:The quick brown fox used to sleep inside this box\n",
        "Encoded Msg: Th qck brwn fx ud t slp ie ths bx"
      ],
      "metadata": {
        "id": "PLRIzUzio_jB"
      }
    },
    {
      "cell_type": "code",
      "source": [
        "\n",
        "message = input()\n",
        "message = message.split()\n",
        "vowels = 'a', 'e', 'i', 'o' ,'u', 'A', 'E', 'I', 'O', 'U'\n",
        "output = []\n",
        "for word in message:\n",
        "  if word[0] in vowels:\n",
        "    if len(word) > 1:\n",
        "      output.append(word[0] + word[-1])\n",
        "    else:\n",
        "      output.append(word)\n",
        "  else:\n",
        "    new_word = \"\"\n",
        "    for chr in word:\n",
        "      if chr not in vowels:\n",
        "        new_word += chr\n",
        "    output.append(new_word)\n",
        "print(\" \".join(output))\n",
        "\n"
      ],
      "metadata": {
        "colab": {
          "base_uri": "https://localhost:8080/"
        },
        "id": "ksbdN18_b3cE",
        "outputId": "b7ab613e-ba2e-41a8-f02c-5f4e7d6c0399"
      },
      "execution_count": null,
      "outputs": [
        {
          "output_type": "stream",
          "name": "stdout",
          "text": [
            "\n",
            "\n"
          ]
        }
      ]
    },
    {
      "cell_type": "markdown",
      "source": [
        "Q8 : Write a program to implement run length encoding of a string\n",
        "RLE:Consecutive repetition of a character has to be replaced with the count of occurrences and the character.\n",
        "Encoded: 2a3b2c3d1a1e"
      ],
      "metadata": {
        "id": "gA5wmeOjpGqv"
      }
    },
    {
      "cell_type": "code",
      "source": [
        "\n",
        "input =\"aabbbccdddae\"\n",
        "output = \"\"\n",
        "count = 1\n",
        "prev_char = input[0]\n",
        "\n",
        "for char in input[1:]:\n",
        "    if char != prev_char :\n",
        "        output += str(count) + prev_char\n",
        "        count = 1\n",
        "    else:\n",
        "        count += 1\n",
        "\n",
        "    prev_char = char\n",
        "output += str(count) + prev_char\n",
        "print(output)\n",
        "\n"
      ],
      "metadata": {
        "colab": {
          "base_uri": "https://localhost:8080/"
        },
        "id": "O12j--XYb4F_",
        "outputId": "d6f3fd0b-d565-42bb-f400-169def3fad41"
      },
      "execution_count": null,
      "outputs": [
        {
          "output_type": "stream",
          "name": "stdout",
          "text": [
            "2a3b2c3d1a1e\n"
          ]
        }
      ]
    },
    {
      "cell_type": "code",
      "source": [
        "s = \" Ramesh  Suresh\"\n",
        "s = s.lower()\n",
        "print(s)\n",
        "\n",
        "s1 = s.upper()\n",
        "print(s1)"
      ],
      "metadata": {
        "colab": {
          "base_uri": "https://localhost:8080/"
        },
        "id": "8hhXZwnQ68_m",
        "outputId": "4cb888ee-64a7-4c91-da5b-0b2e4bf02204"
      },
      "execution_count": null,
      "outputs": [
        {
          "output_type": "stream",
          "name": "stdout",
          "text": [
            " ramesh  suresh\n",
            " RAMESH  SURESH\n"
          ]
        }
      ]
    },
    {
      "cell_type": "code",
      "source": [
        "s = input()\n",
        "result = s.lower()\n",
        "print(result)"
      ],
      "metadata": {
        "colab": {
          "base_uri": "https://localhost:8080/"
        },
        "id": "nOxti8Nz7WCq",
        "outputId": "6207dcf1-375f-4bfd-aada-9fe4c801147c"
      },
      "execution_count": null,
      "outputs": [
        {
          "output_type": "stream",
          "name": "stdout",
          "text": [
            "I am Priya\n",
            "i am priya\n"
          ]
        }
      ]
    },
    {
      "cell_type": "code",
      "source": [
        "string1 = \"Hello Word here how\"\n",
        "count = 0\n",
        "#output :=> 2\n",
        "#Total Word Starting From Upper Case\n",
        "for word in string1:\n",
        "  if word[0].isupper():\n",
        "    count += 1\n",
        "print(count)\n"
      ],
      "metadata": {
        "colab": {
          "base_uri": "https://localhost:8080/"
        },
        "id": "XLllGBPr7gKz",
        "outputId": "d6ce62f9-479d-441f-99e4-65e7a016b157"
      },
      "execution_count": null,
      "outputs": [
        {
          "output_type": "stream",
          "name": "stdout",
          "text": [
            "2\n"
          ]
        }
      ]
    },
    {
      "cell_type": "code",
      "source": [
        "def res1(str1):\n",
        " a = str1.split(\" \")\n",
        " return a\n",
        "\n",
        "ans = res1(\"Hello how are you\")\n",
        "print(ans)"
      ],
      "metadata": {
        "colab": {
          "base_uri": "https://localhost:8080/"
        },
        "id": "w4FmZqHuH4XC",
        "outputId": "73f194a1-287f-4e3d-ceec-514ce9c0c2d5"
      },
      "execution_count": null,
      "outputs": [
        {
          "output_type": "stream",
          "name": "stdout",
          "text": [
            "['Hello', 'how', 'are', 'you']\n"
          ]
        }
      ]
    },
    {
      "cell_type": "code",
      "source": [
        "l1 = [\"Hello\",\"how\",\"are\",\"you\"]\n",
        "s = \" \".join(l1)\n",
        "print(s)\n"
      ],
      "metadata": {
        "colab": {
          "base_uri": "https://localhost:8080/"
        },
        "id": "FYvmGoi9NHoS",
        "outputId": "eecf0541-0101-44aa-e8ff-83575258d402"
      },
      "execution_count": null,
      "outputs": [
        {
          "output_type": "stream",
          "name": "stdout",
          "text": [
            "Hello how are you\n",
            "Hello how are you\n"
          ]
        }
      ]
    }
  ]
}